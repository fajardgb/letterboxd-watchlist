{
 "cells": [
  {
   "cell_type": "code",
   "execution_count": 97,
   "id": "c527fb05",
   "metadata": {},
   "outputs": [],
   "source": [
    "import requests\n",
    "from bs4 import BeautifulSoup\n",
    "import pandas as pd\n",
    "import matplotlib.pyplot as plt"
   ]
  },
  {
   "cell_type": "markdown",
   "id": "7f834b2c",
   "metadata": {},
   "source": [
    "### Get number of films in a watchlist"
   ]
  },
  {
   "cell_type": "code",
   "execution_count": 51,
   "id": "2658b843",
   "metadata": {},
   "outputs": [],
   "source": [
    "def get_watchlist_count(username):\n",
    "    page_url = f\"https://letterboxd.com/{username}/watchlist/\"\n",
    "    response = requests.get(page_url)\n",
    "    if response.status_code == 200:\n",
    "        # get soup object\n",
    "        soup = BeautifulSoup(response.text, 'html.parser')\n",
    "\n",
    "        # get number of total films in watchlist\n",
    "        watchlist_count_element = soup.find('span', class_='js-watchlist-count')\n",
    "        if watchlist_count_element:\n",
    "            watchlist_count_text = watchlist_count_element.text\n",
    "            watchlist_count = int(watchlist_count_text.split()[0])\n",
    "    return watchlist_count\n"
   ]
  },
  {
   "cell_type": "markdown",
   "id": "df3a6203",
   "metadata": {},
   "source": [
    "### Get movie titles in a watchlist"
   ]
  },
  {
   "cell_type": "code",
   "execution_count": 52,
   "id": "6cda535b",
   "metadata": {},
   "outputs": [],
   "source": [
    "# Function to extract movie titles from a Letterboxd watchlist URL\n",
    "def get_movie_titles(username):\n",
    "\n",
    "    movie_titles = []\n",
    "\n",
    "    # get 1st page\n",
    "    page_url = f\"https://letterboxd.com/{username}/watchlist/\"\n",
    "    response = requests.get(page_url)\n",
    "    if response.status_code == 200:\n",
    "        # get soup object\n",
    "        soup = BeautifulSoup(response.text, 'html.parser')\n",
    "\n",
    "        # get movie titles on 1st page\n",
    "        movies = soup.find_all('div', class_='film-poster')\n",
    "        for movie in movies:\n",
    "            # get movie title\n",
    "            title = movie['data-film-slug']\n",
    "            # append movie title to list\n",
    "            movie_titles.append(title)\n",
    "\n",
    "    # get movies on pages 2-end\n",
    "    # 1st watchlist page uses the watchlist url... \n",
    "    # 2nd page and beyond uses the watchlist url + page number\n",
    "    page = 2\n",
    "    while True:\n",
    "        page_url = f\"https://letterboxd.com/{username}/watchlist/page/{page}/\"\n",
    "        response = requests.get(page_url)\n",
    "        if response.status_code == 200:\n",
    "            # get soup object\n",
    "            soup = BeautifulSoup(response.text, 'html.parser')\n",
    "\n",
    "            # get movie titles on this page\n",
    "            movies = soup.find_all('div', class_='film-poster')\n",
    "            if not movies:\n",
    "                break  # no movies on this page\n",
    "            \n",
    "            # get movies on this page\n",
    "            for movie in movies: \n",
    "                # get movie title\n",
    "                title = movie['data-film-slug']\n",
    "                # append movie title to list\n",
    "                movie_titles.append(title)\n",
    "            page += 1\n",
    "        else:\n",
    "            break  # Error or no more pages\n",
    "    return movie_titles"
   ]
  },
  {
   "cell_type": "markdown",
   "id": "1d1ad676",
   "metadata": {},
   "source": [
    "### Get only movie titles in all selected watchlists"
   ]
  },
  {
   "cell_type": "code",
   "execution_count": 53,
   "id": "cbaefe84",
   "metadata": {},
   "outputs": [],
   "source": [
    "def get_common_movies_list(usernames):\n",
    "    all_movies_list = []\n",
    "\n",
    "    for user in usernames:\n",
    "        count = get_watchlist_count(user)\n",
    "        watchlist = get_movie_titles(user)\n",
    "        # make sure correct # in watchlist\n",
    "        print(f\"{user} has {count} movies in their watchlist\")\n",
    "        assert count == len(watchlist), f\"ERORR: something is wrong about number of items in watchlist - {count} != {len(watchlist)}\"\n",
    "        all_movies_list.append(watchlist)\n",
    "\n",
    "    \n",
    "    common_movies = set(all_movies_list[0])\n",
    "    for movies_list in all_movies_list[1:]:\n",
    "        common_movies = common_movies.intersection(movies_list)\n",
    "    return list(common_movies)"
   ]
  },
  {
   "cell_type": "markdown",
   "id": "dfe1a149",
   "metadata": {},
   "source": [
    "### Get data for each movie in a shared watchlist"
   ]
  },
  {
   "cell_type": "code",
   "execution_count": 54,
   "id": "b6749be8",
   "metadata": {},
   "outputs": [],
   "source": [
    "def get_movie_stats(data_film_slug):\n",
    "    # Construct the movie URL using the film-id\n",
    "    movie_url = f\"https://letterboxd.com/film/{data_film_slug}/\"\n",
    "\n",
    "    # Send a GET request to the movie URL\n",
    "    response = requests.get(movie_url)\n",
    "\n",
    "    if response.status_code == 200:\n",
    "        # Parse the HTML content of the movie page\n",
    "        soup = BeautifulSoup(response.text, 'html.parser')\n",
    "\n",
    "        # Find the relevant meta tags\n",
    "        director_tag = soup.find('meta', {'name': 'twitter:data1'})\n",
    "        rating_tag = soup.find('meta', {'name': 'twitter:data2'})\n",
    "        og_title_tag = soup.find('meta', {'property': 'og:title'})\n",
    "        duration_tag = soup.find('p', class_='text-link text-footer')\n",
    "        # accounts for movies with 1 Genre or Multiple Genres\n",
    "        genre_header = soup.find(lambda tag: tag.name == 'h3' and (tag.text == 'Genre' or tag.text == 'Genres'))\n",
    "        \n",
    "        # Extract the content from the meta tags\n",
    "        director = director_tag.get('content') if director_tag else None\n",
    "        rating = float(rating_tag.get('content').split(' ')[0]) if rating_tag else None\n",
    "        title = og_title_tag.get('content').split('(')[0] if og_title_tag else None\n",
    "        year = og_title_tag.get('content').split('(')[-1].strip(')') if og_title_tag else None\n",
    "        duration = duration_tag.text.strip().split()[0]\n",
    "        # get genre(s)\n",
    "        if not genre_header:\n",
    "            genre=None\n",
    "        else:\n",
    "            genre_div = genre_header.find_next('div', class_='text-sluglist')\n",
    "            # Find all <a> tags within the genre_div and extract their text\n",
    "            genres = [a.text for a in genre_div.find_all('a', class_='text-slug')]\n",
    "            genres = ', '.join(genres)\n",
    "\n",
    "    else:\n",
    "        print(f\"Error: Failed to retrieve movie stats for {data_film_slug}.\")\n",
    "    return director, rating, title, genres, year, duration"
   ]
  },
  {
   "cell_type": "markdown",
   "id": "e5af34a0",
   "metadata": {},
   "source": [
    "### Make a df with data for all shared movies"
   ]
  },
  {
   "cell_type": "code",
   "execution_count": 55,
   "id": "d15c2c93",
   "metadata": {},
   "outputs": [],
   "source": [
    "def get_common_movies_df(common_movies_list):\n",
    "    common_movies_df = pd.DataFrame(columns=['Title', 'Rating', 'Director', 'Genre', 'Year', 'Duration (mins)'])\n",
    "    # Iterate through the common_movies list\n",
    "    for movie in common_movies_list:\n",
    "        # Get the movie stats using the get_movie_stats function\n",
    "        director, rating, title, genres, year, duration = get_movie_stats(movie)\n",
    "        \n",
    "        # Append the movie stats to the DataFrame\n",
    "        common_movies_df = pd.concat([common_movies_df, pd.DataFrame([[title, rating, director, genres, year, duration]], columns=['Title', 'Rating', 'Director', 'Genre', 'Year', 'Duration (mins)'])])\n",
    "    # Print the DataFrame\n",
    "    common_movies_df.reset_index()\n",
    "    common_movies_df_sorted = common_movies_df.sort_values(by='Rating', ascending=False)\n",
    "    common_movies_df_sorted.reset_index(drop=True, inplace=True)\n",
    "    return common_movies_df_sorted\n"
   ]
  },
  {
   "cell_type": "markdown",
   "id": "445b762a",
   "metadata": {},
   "source": [
    "### Get df"
   ]
  },
  {
   "cell_type": "code",
   "execution_count": 96,
   "id": "ca9000c8",
   "metadata": {},
   "outputs": [
    {
     "name": "stdout",
     "output_type": "stream",
     "text": [
      "gfajardo555 has 538 movies in their watchlist\n",
      "romekk has 128 movies in their watchlist\n",
      "shaydog has 483 movies in their watchlist\n",
      "\n",
      "gfajardo555, romekk, and shaydog have 14 movies in common.\n"
     ]
    },
    {
     "data": {
      "text/html": [
       "<div>\n",
       "<style scoped>\n",
       "    .dataframe tbody tr th:only-of-type {\n",
       "        vertical-align: middle;\n",
       "    }\n",
       "\n",
       "    .dataframe tbody tr th {\n",
       "        vertical-align: top;\n",
       "    }\n",
       "\n",
       "    .dataframe thead th {\n",
       "        text-align: right;\n",
       "    }\n",
       "</style>\n",
       "<table border=\"1\" class=\"dataframe\">\n",
       "  <thead>\n",
       "    <tr style=\"text-align: right;\">\n",
       "      <th></th>\n",
       "      <th>Title</th>\n",
       "      <th>Rating</th>\n",
       "      <th>Director</th>\n",
       "      <th>Genre</th>\n",
       "      <th>Year</th>\n",
       "      <th>Duration (mins)</th>\n",
       "    </tr>\n",
       "  </thead>\n",
       "  <tbody>\n",
       "    <tr>\n",
       "      <th>0</th>\n",
       "      <td>Come and See</td>\n",
       "      <td>4.64</td>\n",
       "      <td>Elem Klimov</td>\n",
       "      <td>War, Drama</td>\n",
       "      <td>1985</td>\n",
       "      <td>142</td>\n",
       "    </tr>\n",
       "    <tr>\n",
       "      <th>1</th>\n",
       "      <td>La Haine</td>\n",
       "      <td>4.51</td>\n",
       "      <td>Mathieu Kassovitz</td>\n",
       "      <td>Drama</td>\n",
       "      <td>1995</td>\n",
       "      <td>98</td>\n",
       "    </tr>\n",
       "    <tr>\n",
       "      <th>2</th>\n",
       "      <td>The Pianist</td>\n",
       "      <td>4.37</td>\n",
       "      <td>Roman Polanski</td>\n",
       "      <td>Drama, War</td>\n",
       "      <td>2002</td>\n",
       "      <td>150</td>\n",
       "    </tr>\n",
       "    <tr>\n",
       "      <th>3</th>\n",
       "      <td>Dr. Strangelove or: How I Learned to Stop Worr...</td>\n",
       "      <td>4.31</td>\n",
       "      <td>Stanley Kubrick</td>\n",
       "      <td>Comedy, War</td>\n",
       "      <td>1964</td>\n",
       "      <td>95</td>\n",
       "    </tr>\n",
       "    <tr>\n",
       "      <th>4</th>\n",
       "      <td>Mulholland Drive</td>\n",
       "      <td>4.24</td>\n",
       "      <td>David Lynch</td>\n",
       "      <td>Mystery, Drama, Thriller</td>\n",
       "      <td>2001</td>\n",
       "      <td>147</td>\n",
       "    </tr>\n",
       "  </tbody>\n",
       "</table>\n",
       "</div>"
      ],
      "text/plain": [
       "                                               Title  Rating  \\\n",
       "0                                      Come and See     4.64   \n",
       "1                                          La Haine     4.51   \n",
       "2                                       The Pianist     4.37   \n",
       "3  Dr. Strangelove or: How I Learned to Stop Worr...    4.31   \n",
       "4                                  Mulholland Drive     4.24   \n",
       "\n",
       "            Director                     Genre  Year Duration (mins)  \n",
       "0        Elem Klimov                War, Drama  1985             142  \n",
       "1  Mathieu Kassovitz                     Drama  1995              98  \n",
       "2     Roman Polanski                Drama, War  2002             150  \n",
       "3    Stanley Kubrick               Comedy, War  1964              95  \n",
       "4        David Lynch  Mystery, Drama, Thriller  2001             147  "
      ]
     },
     "execution_count": 96,
     "metadata": {},
     "output_type": "execute_result"
    }
   ],
   "source": [
    "# define users\n",
    "users = ['gfajardo555', 'romekk', 'shaydog'] ## CHANGE ME\n",
    "\n",
    "common_movies_list = get_common_movies_list(users)\n",
    "\n",
    "print()\n",
    "if len(users) == 2:\n",
    "    print(f\"{users[0]} and {users[1]} have {len(common_movies_list)} watchlist movies in common.\")\n",
    "elif len(users) > 2:\n",
    "    user_list_str = ', '.join(users[:-1]) + ', and ' + users[-1]\n",
    "    print(f\"{user_list_str} have {len(common_movies_list)} watchlist movies in common.\")\n",
    "\n",
    "\n",
    "common_movies_df = get_common_movies_df(common_movies_list)\n",
    "\n",
    "save_dir = f\"{'_'.join(users)}_common_watchlist.csv\"\n",
    "common_movies_df.to_csv(save_dir)\n",
    "common_movies_df.head()\n"
   ]
  },
  {
   "cell_type": "markdown",
   "id": "fbed3fff",
   "metadata": {},
   "source": [
    "# Make a scatterplot "
   ]
  },
  {
   "cell_type": "code",
   "execution_count": 101,
   "id": "9d04721c",
   "metadata": {},
   "outputs": [],
   "source": [
    "def plot_low_dur_high_rate_movies(common_movies_df, min_rating=4.2, max_duration=100, font_size=9, save_dir=None):\n",
    "\n",
    "    # load and clean df\n",
    "    common_movies_df = common_movies_df.dropna()\n",
    "    common_movies_df['Duration (mins)'] = pd.to_numeric(common_movies_df['Duration (mins)'])\n",
    "    common_movies_df['Rating'] = pd.to_numeric(common_movies_df['Rating'], errors='coerce')\n",
    "    common_movies_df = common_movies_df.dropna(subset=['Rating'])\n",
    "\n",
    "    # filter df by duration and rating\n",
    "    filtered_df = common_movies_df[(common_movies_df['Duration (mins)'] < max_duration) & (common_movies_df['Rating'] > min_rating)]\n",
    "\n",
    "    plt.scatter(filtered_df['Duration (mins)'], filtered_df['Rating'], color='skyblue')\n",
    "\n",
    "    # Adding labels and title\n",
    "    for i in range(len(filtered_df)):\n",
    "        plt.text(filtered_df['Duration (mins)'].iloc[i], filtered_df['Rating'].iloc[i], \n",
    "                filtered_df['Title'].iloc[i], fontsize=font_size)\n",
    "    plt.xlabel('Duration (mins)')\n",
    "    plt.ylabel('Rating')\n",
    "    plt.title('Short Duration and High Rating Films')\n",
    "    plt.grid(True)\n",
    "    if save_dir:\n",
    "        plt.savefig(save_dir)\n",
    "    plt.show()\n"
   ]
  },
  {
   "cell_type": "code",
   "execution_count": 102,
   "id": "22707547",
   "metadata": {},
   "outputs": [
    {
     "data": {
      "image/png": "[encoded data removed]",
      "text/plain": [
       "<Figure size 640x480 with 1 Axes>"
      ]
     },
     "metadata": {},
     "output_type": "display_data"
    }
   ],
   "source": [
    "plot_low_dur_high_rate_movies(common_movies_df, min_rating=4.2, max_duration=100, save_dir=None)"
   ]
  },
  {
   "cell_type": "code",
   "execution_count": null,
   "id": "97f01312",
   "metadata": {},
   "outputs": [],
   "source": []
  }
 ],
 "metadata": {
  "kernelspec": {
   "display_name": "Python 3 (ipykernel)",
   "language": "python",
   "name": "python3"
  },
  "language_info": {
   "codemirror_mode": {
    "name": "ipython",
    "version": 3
   },
   "file_extension": ".py",
   "mimetype": "text/x-python",
   "name": "python",
   "nbconvert_exporter": "python",
   "pygments_lexer": "ipython3",
   "version": "3.11.4"
  }
 },
 "nbformat": 4,
 "nbformat_minor": 5
}
